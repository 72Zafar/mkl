{
 "cells": [
  {
   "cell_type": "code",
   "execution_count": 1,
   "id": "d8e62a3a",
   "metadata": {
    "_cell_guid": "b1076dfc-b9ad-4769-8c92-a6c4dae69d19",
    "_uuid": "8f2839f25d086af736a60e9eeb907d3b93b6e0e5",
    "execution": {
     "iopub.execute_input": "2024-10-28T18:57:47.912678Z",
     "iopub.status.busy": "2024-10-28T18:57:47.912222Z",
     "iopub.status.idle": "2024-10-28T18:57:48.866568Z",
     "shell.execute_reply": "2024-10-28T18:57:48.865352Z"
    },
    "papermill": {
     "duration": 0.97012,
     "end_time": "2024-10-28T18:57:48.869286",
     "exception": false,
     "start_time": "2024-10-28T18:57:47.899166",
     "status": "completed"
    },
    "tags": []
   },
   "outputs": [
    {
     "name": "stdout",
     "output_type": "stream",
     "text": [
      "/kaggle/input/fmendesdat263xdemos/exercise.csv\n",
      "/kaggle/input/fmendesdat263xdemos/calories.csv\n"
     ]
    }
   ],
   "source": [
    "# This Python 3 environment comes with many helpful analytics libraries installed\n",
    "# It is defined by the kaggle/python Docker image: https://github.com/kaggle/docker-python\n",
    "# For example, here's several helpful packages to load\n",
    "\n",
    "import numpy as np # linear algebra\n",
    "import pandas as pd # data processing, CSV file I/O (e.g. pd.read_csv)\n",
    "\n",
    "# Input data files are available in the read-only \"../input/\" directory\n",
    "# For example, running this (by clicking run or pressing Shift+Enter) will list all files under the input directory\n",
    "\n",
    "import os\n",
    "for dirname, _, filenames in os.walk('/kaggle/input'):\n",
    "    for filename in filenames:\n",
    "        print(os.path.join(dirname, filename))\n",
    "\n",
    "# You can write up to 20GB to the current directory (/kaggle/working/) that gets preserved as output when you create a version using \"Save & Run All\" \n",
    "# You can also write temporary files to /kaggle/temp/, but they won't be saved outside of the current session"
   ]
  },
  {
   "cell_type": "markdown",
   "id": "ae949f0e",
   "metadata": {
    "papermill": {
     "duration": 0.010404,
     "end_time": "2024-10-28T18:57:48.890890",
     "exception": false,
     "start_time": "2024-10-28T18:57:48.880486",
     "status": "completed"
    },
    "tags": []
   },
   "source": [
    "# Importing The Dependenices"
   ]
  },
  {
   "cell_type": "code",
   "execution_count": 2,
   "id": "8cb2146b",
   "metadata": {
    "execution": {
     "iopub.execute_input": "2024-10-28T18:57:48.914919Z",
     "iopub.status.busy": "2024-10-28T18:57:48.914309Z",
     "iopub.status.idle": "2024-10-28T18:57:51.172713Z",
     "shell.execute_reply": "2024-10-28T18:57:51.171694Z"
    },
    "papermill": {
     "duration": 2.273291,
     "end_time": "2024-10-28T18:57:51.175364",
     "exception": false,
     "start_time": "2024-10-28T18:57:48.902073",
     "status": "completed"
    },
    "tags": []
   },
   "outputs": [],
   "source": [
    "import pandas as pd\n",
    "import numpy as np\n",
    "import seaborn as sns\n",
    "import matplotlib.pyplot as plt\n",
    "from sklearn.model_selection import train_test_split\n",
    "from  xgboost import XGBRegressor\n",
    "from sklearn import metrics"
   ]
  },
  {
   "cell_type": "markdown",
   "id": "11e25391",
   "metadata": {
    "papermill": {
     "duration": 0.010509,
     "end_time": "2024-10-28T18:57:51.197024",
     "exception": false,
     "start_time": "2024-10-28T18:57:51.186515",
     "status": "completed"
    },
    "tags": []
   },
   "source": [
    "# Data Collection & Processing"
   ]
  },
  {
   "cell_type": "code",
   "execution_count": 3,
   "id": "435a6113",
   "metadata": {
    "execution": {
     "iopub.execute_input": "2024-10-28T18:57:51.221408Z",
     "iopub.status.busy": "2024-10-28T18:57:51.220818Z",
     "iopub.status.idle": "2024-10-28T18:57:51.253283Z",
     "shell.execute_reply": "2024-10-28T18:57:51.251907Z"
    },
    "papermill": {
     "duration": 0.047325,
     "end_time": "2024-10-28T18:57:51.256073",
     "exception": false,
     "start_time": "2024-10-28T18:57:51.208748",
     "status": "completed"
    },
    "tags": []
   },
   "outputs": [],
   "source": [
    "calories_df = pd.read_csv(\"/kaggle/input/fmendesdat263xdemos/calories.csv\")"
   ]
  },
  {
   "cell_type": "code",
   "execution_count": 4,
   "id": "b746d621",
   "metadata": {
    "execution": {
     "iopub.execute_input": "2024-10-28T18:57:51.282318Z",
     "iopub.status.busy": "2024-10-28T18:57:51.281864Z",
     "iopub.status.idle": "2024-10-28T18:57:51.310735Z",
     "shell.execute_reply": "2024-10-28T18:57:51.309587Z"
    },
    "papermill": {
     "duration": 0.044357,
     "end_time": "2024-10-28T18:57:51.313460",
     "exception": false,
     "start_time": "2024-10-28T18:57:51.269103",
     "status": "completed"
    },
    "tags": []
   },
   "outputs": [
    {
     "data": {
      "text/html": [
       "<div>\n",
       "<style scoped>\n",
       "    .dataframe tbody tr th:only-of-type {\n",
       "        vertical-align: middle;\n",
       "    }\n",
       "\n",
       "    .dataframe tbody tr th {\n",
       "        vertical-align: top;\n",
       "    }\n",
       "\n",
       "    .dataframe thead th {\n",
       "        text-align: right;\n",
       "    }\n",
       "</style>\n",
       "<table border=\"1\" class=\"dataframe\">\n",
       "  <thead>\n",
       "    <tr style=\"text-align: right;\">\n",
       "      <th></th>\n",
       "      <th>User_ID</th>\n",
       "      <th>Calories</th>\n",
       "    </tr>\n",
       "  </thead>\n",
       "  <tbody>\n",
       "    <tr>\n",
       "      <th>0</th>\n",
       "      <td>14733363</td>\n",
       "      <td>231.0</td>\n",
       "    </tr>\n",
       "    <tr>\n",
       "      <th>1</th>\n",
       "      <td>14861698</td>\n",
       "      <td>66.0</td>\n",
       "    </tr>\n",
       "    <tr>\n",
       "      <th>2</th>\n",
       "      <td>11179863</td>\n",
       "      <td>26.0</td>\n",
       "    </tr>\n",
       "    <tr>\n",
       "      <th>3</th>\n",
       "      <td>16180408</td>\n",
       "      <td>71.0</td>\n",
       "    </tr>\n",
       "    <tr>\n",
       "      <th>4</th>\n",
       "      <td>17771927</td>\n",
       "      <td>35.0</td>\n",
       "    </tr>\n",
       "    <tr>\n",
       "      <th>...</th>\n",
       "      <td>...</td>\n",
       "      <td>...</td>\n",
       "    </tr>\n",
       "    <tr>\n",
       "      <th>14995</th>\n",
       "      <td>15644082</td>\n",
       "      <td>45.0</td>\n",
       "    </tr>\n",
       "    <tr>\n",
       "      <th>14996</th>\n",
       "      <td>17212577</td>\n",
       "      <td>23.0</td>\n",
       "    </tr>\n",
       "    <tr>\n",
       "      <th>14997</th>\n",
       "      <td>17271188</td>\n",
       "      <td>75.0</td>\n",
       "    </tr>\n",
       "    <tr>\n",
       "      <th>14998</th>\n",
       "      <td>18643037</td>\n",
       "      <td>11.0</td>\n",
       "    </tr>\n",
       "    <tr>\n",
       "      <th>14999</th>\n",
       "      <td>11751526</td>\n",
       "      <td>98.0</td>\n",
       "    </tr>\n",
       "  </tbody>\n",
       "</table>\n",
       "<p>15000 rows × 2 columns</p>\n",
       "</div>"
      ],
      "text/plain": [
       "        User_ID  Calories\n",
       "0      14733363     231.0\n",
       "1      14861698      66.0\n",
       "2      11179863      26.0\n",
       "3      16180408      71.0\n",
       "4      17771927      35.0\n",
       "...         ...       ...\n",
       "14995  15644082      45.0\n",
       "14996  17212577      23.0\n",
       "14997  17271188      75.0\n",
       "14998  18643037      11.0\n",
       "14999  11751526      98.0\n",
       "\n",
       "[15000 rows x 2 columns]"
      ]
     },
     "execution_count": 4,
     "metadata": {},
     "output_type": "execute_result"
    }
   ],
   "source": [
    "calories_df"
   ]
  },
  {
   "cell_type": "code",
   "execution_count": 5,
   "id": "beac65d7",
   "metadata": {
    "execution": {
     "iopub.execute_input": "2024-10-28T18:57:51.338137Z",
     "iopub.status.busy": "2024-10-28T18:57:51.337604Z",
     "iopub.status.idle": "2024-10-28T18:57:51.380724Z",
     "shell.execute_reply": "2024-10-28T18:57:51.379311Z"
    },
    "papermill": {
     "duration": 0.058849,
     "end_time": "2024-10-28T18:57:51.383506",
     "exception": false,
     "start_time": "2024-10-28T18:57:51.324657",
     "status": "completed"
    },
    "tags": []
   },
   "outputs": [],
   "source": [
    "exercise_df = pd.read_csv(\"/kaggle/input/fmendesdat263xdemos/exercise.csv\")"
   ]
  },
  {
   "cell_type": "code",
   "execution_count": 6,
   "id": "0c8c6306",
   "metadata": {
    "execution": {
     "iopub.execute_input": "2024-10-28T18:57:51.408476Z",
     "iopub.status.busy": "2024-10-28T18:57:51.407494Z",
     "iopub.status.idle": "2024-10-28T18:57:51.431052Z",
     "shell.execute_reply": "2024-10-28T18:57:51.429950Z"
    },
    "papermill": {
     "duration": 0.039134,
     "end_time": "2024-10-28T18:57:51.433996",
     "exception": false,
     "start_time": "2024-10-28T18:57:51.394862",
     "status": "completed"
    },
    "tags": []
   },
   "outputs": [
    {
     "data": {
      "text/html": [
       "<div>\n",
       "<style scoped>\n",
       "    .dataframe tbody tr th:only-of-type {\n",
       "        vertical-align: middle;\n",
       "    }\n",
       "\n",
       "    .dataframe tbody tr th {\n",
       "        vertical-align: top;\n",
       "    }\n",
       "\n",
       "    .dataframe thead th {\n",
       "        text-align: right;\n",
       "    }\n",
       "</style>\n",
       "<table border=\"1\" class=\"dataframe\">\n",
       "  <thead>\n",
       "    <tr style=\"text-align: right;\">\n",
       "      <th></th>\n",
       "      <th>User_ID</th>\n",
       "      <th>Gender</th>\n",
       "      <th>Age</th>\n",
       "      <th>Height</th>\n",
       "      <th>Weight</th>\n",
       "      <th>Duration</th>\n",
       "      <th>Heart_Rate</th>\n",
       "      <th>Body_Temp</th>\n",
       "    </tr>\n",
       "  </thead>\n",
       "  <tbody>\n",
       "    <tr>\n",
       "      <th>0</th>\n",
       "      <td>14733363</td>\n",
       "      <td>male</td>\n",
       "      <td>68</td>\n",
       "      <td>190.0</td>\n",
       "      <td>94.0</td>\n",
       "      <td>29.0</td>\n",
       "      <td>105.0</td>\n",
       "      <td>40.8</td>\n",
       "    </tr>\n",
       "    <tr>\n",
       "      <th>1</th>\n",
       "      <td>14861698</td>\n",
       "      <td>female</td>\n",
       "      <td>20</td>\n",
       "      <td>166.0</td>\n",
       "      <td>60.0</td>\n",
       "      <td>14.0</td>\n",
       "      <td>94.0</td>\n",
       "      <td>40.3</td>\n",
       "    </tr>\n",
       "    <tr>\n",
       "      <th>2</th>\n",
       "      <td>11179863</td>\n",
       "      <td>male</td>\n",
       "      <td>69</td>\n",
       "      <td>179.0</td>\n",
       "      <td>79.0</td>\n",
       "      <td>5.0</td>\n",
       "      <td>88.0</td>\n",
       "      <td>38.7</td>\n",
       "    </tr>\n",
       "    <tr>\n",
       "      <th>3</th>\n",
       "      <td>16180408</td>\n",
       "      <td>female</td>\n",
       "      <td>34</td>\n",
       "      <td>179.0</td>\n",
       "      <td>71.0</td>\n",
       "      <td>13.0</td>\n",
       "      <td>100.0</td>\n",
       "      <td>40.5</td>\n",
       "    </tr>\n",
       "    <tr>\n",
       "      <th>4</th>\n",
       "      <td>17771927</td>\n",
       "      <td>female</td>\n",
       "      <td>27</td>\n",
       "      <td>154.0</td>\n",
       "      <td>58.0</td>\n",
       "      <td>10.0</td>\n",
       "      <td>81.0</td>\n",
       "      <td>39.8</td>\n",
       "    </tr>\n",
       "    <tr>\n",
       "      <th>...</th>\n",
       "      <td>...</td>\n",
       "      <td>...</td>\n",
       "      <td>...</td>\n",
       "      <td>...</td>\n",
       "      <td>...</td>\n",
       "      <td>...</td>\n",
       "      <td>...</td>\n",
       "      <td>...</td>\n",
       "    </tr>\n",
       "    <tr>\n",
       "      <th>14995</th>\n",
       "      <td>15644082</td>\n",
       "      <td>female</td>\n",
       "      <td>20</td>\n",
       "      <td>193.0</td>\n",
       "      <td>86.0</td>\n",
       "      <td>11.0</td>\n",
       "      <td>92.0</td>\n",
       "      <td>40.4</td>\n",
       "    </tr>\n",
       "    <tr>\n",
       "      <th>14996</th>\n",
       "      <td>17212577</td>\n",
       "      <td>female</td>\n",
       "      <td>27</td>\n",
       "      <td>165.0</td>\n",
       "      <td>65.0</td>\n",
       "      <td>6.0</td>\n",
       "      <td>85.0</td>\n",
       "      <td>39.2</td>\n",
       "    </tr>\n",
       "    <tr>\n",
       "      <th>14997</th>\n",
       "      <td>17271188</td>\n",
       "      <td>female</td>\n",
       "      <td>43</td>\n",
       "      <td>159.0</td>\n",
       "      <td>58.0</td>\n",
       "      <td>16.0</td>\n",
       "      <td>90.0</td>\n",
       "      <td>40.1</td>\n",
       "    </tr>\n",
       "    <tr>\n",
       "      <th>14998</th>\n",
       "      <td>18643037</td>\n",
       "      <td>male</td>\n",
       "      <td>78</td>\n",
       "      <td>193.0</td>\n",
       "      <td>97.0</td>\n",
       "      <td>2.0</td>\n",
       "      <td>84.0</td>\n",
       "      <td>38.3</td>\n",
       "    </tr>\n",
       "    <tr>\n",
       "      <th>14999</th>\n",
       "      <td>11751526</td>\n",
       "      <td>male</td>\n",
       "      <td>63</td>\n",
       "      <td>173.0</td>\n",
       "      <td>79.0</td>\n",
       "      <td>18.0</td>\n",
       "      <td>92.0</td>\n",
       "      <td>40.5</td>\n",
       "    </tr>\n",
       "  </tbody>\n",
       "</table>\n",
       "<p>15000 rows × 8 columns</p>\n",
       "</div>"
      ],
      "text/plain": [
       "        User_ID  Gender  Age  Height  Weight  Duration  Heart_Rate  Body_Temp\n",
       "0      14733363    male   68   190.0    94.0      29.0       105.0       40.8\n",
       "1      14861698  female   20   166.0    60.0      14.0        94.0       40.3\n",
       "2      11179863    male   69   179.0    79.0       5.0        88.0       38.7\n",
       "3      16180408  female   34   179.0    71.0      13.0       100.0       40.5\n",
       "4      17771927  female   27   154.0    58.0      10.0        81.0       39.8\n",
       "...         ...     ...  ...     ...     ...       ...         ...        ...\n",
       "14995  15644082  female   20   193.0    86.0      11.0        92.0       40.4\n",
       "14996  17212577  female   27   165.0    65.0       6.0        85.0       39.2\n",
       "14997  17271188  female   43   159.0    58.0      16.0        90.0       40.1\n",
       "14998  18643037    male   78   193.0    97.0       2.0        84.0       38.3\n",
       "14999  11751526    male   63   173.0    79.0      18.0        92.0       40.5\n",
       "\n",
       "[15000 rows x 8 columns]"
      ]
     },
     "execution_count": 6,
     "metadata": {},
     "output_type": "execute_result"
    }
   ],
   "source": [
    "exercise_df"
   ]
  },
  {
   "cell_type": "markdown",
   "id": "3fe849cc",
   "metadata": {
    "papermill": {
     "duration": 0.011565,
     "end_time": "2024-10-28T18:57:51.457028",
     "exception": false,
     "start_time": "2024-10-28T18:57:51.445463",
     "status": "completed"
    },
    "tags": []
   },
   "source": [
    "# Combining the two dataframes"
   ]
  },
  {
   "cell_type": "code",
   "execution_count": 7,
   "id": "75cc27c5",
   "metadata": {
    "execution": {
     "iopub.execute_input": "2024-10-28T18:57:51.482195Z",
     "iopub.status.busy": "2024-10-28T18:57:51.481756Z",
     "iopub.status.idle": "2024-10-28T18:57:51.490344Z",
     "shell.execute_reply": "2024-10-28T18:57:51.489305Z"
    },
    "papermill": {
     "duration": 0.024025,
     "end_time": "2024-10-28T18:57:51.492846",
     "exception": false,
     "start_time": "2024-10-28T18:57:51.468821",
     "status": "completed"
    },
    "tags": []
   },
   "outputs": [],
   "source": [
    "df_calories = pd.concat([exercise_df,calories_df[\"Calories\"]],axis = 1)"
   ]
  },
  {
   "cell_type": "code",
   "execution_count": 8,
   "id": "bb80cdd0",
   "metadata": {
    "execution": {
     "iopub.execute_input": "2024-10-28T18:57:51.518525Z",
     "iopub.status.busy": "2024-10-28T18:57:51.517653Z",
     "iopub.status.idle": "2024-10-28T18:57:51.538176Z",
     "shell.execute_reply": "2024-10-28T18:57:51.536827Z"
    },
    "papermill": {
     "duration": 0.03637,
     "end_time": "2024-10-28T18:57:51.540853",
     "exception": false,
     "start_time": "2024-10-28T18:57:51.504483",
     "status": "completed"
    },
    "tags": []
   },
   "outputs": [
    {
     "data": {
      "text/html": [
       "<div>\n",
       "<style scoped>\n",
       "    .dataframe tbody tr th:only-of-type {\n",
       "        vertical-align: middle;\n",
       "    }\n",
       "\n",
       "    .dataframe tbody tr th {\n",
       "        vertical-align: top;\n",
       "    }\n",
       "\n",
       "    .dataframe thead th {\n",
       "        text-align: right;\n",
       "    }\n",
       "</style>\n",
       "<table border=\"1\" class=\"dataframe\">\n",
       "  <thead>\n",
       "    <tr style=\"text-align: right;\">\n",
       "      <th></th>\n",
       "      <th>User_ID</th>\n",
       "      <th>Gender</th>\n",
       "      <th>Age</th>\n",
       "      <th>Height</th>\n",
       "      <th>Weight</th>\n",
       "      <th>Duration</th>\n",
       "      <th>Heart_Rate</th>\n",
       "      <th>Body_Temp</th>\n",
       "      <th>Calories</th>\n",
       "    </tr>\n",
       "  </thead>\n",
       "  <tbody>\n",
       "    <tr>\n",
       "      <th>0</th>\n",
       "      <td>14733363</td>\n",
       "      <td>male</td>\n",
       "      <td>68</td>\n",
       "      <td>190.0</td>\n",
       "      <td>94.0</td>\n",
       "      <td>29.0</td>\n",
       "      <td>105.0</td>\n",
       "      <td>40.8</td>\n",
       "      <td>231.0</td>\n",
       "    </tr>\n",
       "    <tr>\n",
       "      <th>1</th>\n",
       "      <td>14861698</td>\n",
       "      <td>female</td>\n",
       "      <td>20</td>\n",
       "      <td>166.0</td>\n",
       "      <td>60.0</td>\n",
       "      <td>14.0</td>\n",
       "      <td>94.0</td>\n",
       "      <td>40.3</td>\n",
       "      <td>66.0</td>\n",
       "    </tr>\n",
       "    <tr>\n",
       "      <th>2</th>\n",
       "      <td>11179863</td>\n",
       "      <td>male</td>\n",
       "      <td>69</td>\n",
       "      <td>179.0</td>\n",
       "      <td>79.0</td>\n",
       "      <td>5.0</td>\n",
       "      <td>88.0</td>\n",
       "      <td>38.7</td>\n",
       "      <td>26.0</td>\n",
       "    </tr>\n",
       "    <tr>\n",
       "      <th>3</th>\n",
       "      <td>16180408</td>\n",
       "      <td>female</td>\n",
       "      <td>34</td>\n",
       "      <td>179.0</td>\n",
       "      <td>71.0</td>\n",
       "      <td>13.0</td>\n",
       "      <td>100.0</td>\n",
       "      <td>40.5</td>\n",
       "      <td>71.0</td>\n",
       "    </tr>\n",
       "    <tr>\n",
       "      <th>4</th>\n",
       "      <td>17771927</td>\n",
       "      <td>female</td>\n",
       "      <td>27</td>\n",
       "      <td>154.0</td>\n",
       "      <td>58.0</td>\n",
       "      <td>10.0</td>\n",
       "      <td>81.0</td>\n",
       "      <td>39.8</td>\n",
       "      <td>35.0</td>\n",
       "    </tr>\n",
       "  </tbody>\n",
       "</table>\n",
       "</div>"
      ],
      "text/plain": [
       "    User_ID  Gender  Age  Height  Weight  Duration  Heart_Rate  Body_Temp  \\\n",
       "0  14733363    male   68   190.0    94.0      29.0       105.0       40.8   \n",
       "1  14861698  female   20   166.0    60.0      14.0        94.0       40.3   \n",
       "2  11179863    male   69   179.0    79.0       5.0        88.0       38.7   \n",
       "3  16180408  female   34   179.0    71.0      13.0       100.0       40.5   \n",
       "4  17771927  female   27   154.0    58.0      10.0        81.0       39.8   \n",
       "\n",
       "   Calories  \n",
       "0     231.0  \n",
       "1      66.0  \n",
       "2      26.0  \n",
       "3      71.0  \n",
       "4      35.0  "
      ]
     },
     "execution_count": 8,
     "metadata": {},
     "output_type": "execute_result"
    }
   ],
   "source": [
    "df_calories.head()"
   ]
  },
  {
   "cell_type": "code",
   "execution_count": 9,
   "id": "f84ae431",
   "metadata": {
    "execution": {
     "iopub.execute_input": "2024-10-28T18:57:51.566508Z",
     "iopub.status.busy": "2024-10-28T18:57:51.566086Z",
     "iopub.status.idle": "2024-10-28T18:57:51.573811Z",
     "shell.execute_reply": "2024-10-28T18:57:51.572553Z"
    },
    "papermill": {
     "duration": 0.023652,
     "end_time": "2024-10-28T18:57:51.576423",
     "exception": false,
     "start_time": "2024-10-28T18:57:51.552771",
     "status": "completed"
    },
    "tags": []
   },
   "outputs": [
    {
     "data": {
      "text/plain": [
       "(15000, 9)"
      ]
     },
     "execution_count": 9,
     "metadata": {},
     "output_type": "execute_result"
    }
   ],
   "source": [
    "# checking the number of rows and column\n",
    "df_calories.shape"
   ]
  },
  {
   "cell_type": "code",
   "execution_count": 10,
   "id": "9edf56e3",
   "metadata": {
    "execution": {
     "iopub.execute_input": "2024-10-28T18:57:51.602407Z",
     "iopub.status.busy": "2024-10-28T18:57:51.601958Z",
     "iopub.status.idle": "2024-10-28T18:57:51.627528Z",
     "shell.execute_reply": "2024-10-28T18:57:51.626271Z"
    },
    "papermill": {
     "duration": 0.041917,
     "end_time": "2024-10-28T18:57:51.630424",
     "exception": false,
     "start_time": "2024-10-28T18:57:51.588507",
     "status": "completed"
    },
    "tags": []
   },
   "outputs": [
    {
     "name": "stdout",
     "output_type": "stream",
     "text": [
      "<class 'pandas.core.frame.DataFrame'>\n",
      "RangeIndex: 15000 entries, 0 to 14999\n",
      "Data columns (total 9 columns):\n",
      " #   Column      Non-Null Count  Dtype  \n",
      "---  ------      --------------  -----  \n",
      " 0   User_ID     15000 non-null  int64  \n",
      " 1   Gender      15000 non-null  object \n",
      " 2   Age         15000 non-null  int64  \n",
      " 3   Height      15000 non-null  float64\n",
      " 4   Weight      15000 non-null  float64\n",
      " 5   Duration    15000 non-null  float64\n",
      " 6   Heart_Rate  15000 non-null  float64\n",
      " 7   Body_Temp   15000 non-null  float64\n",
      " 8   Calories    15000 non-null  float64\n",
      "dtypes: float64(6), int64(2), object(1)\n",
      "memory usage: 1.0+ MB\n"
     ]
    }
   ],
   "source": [
    "# geting the some informations about the data\n",
    "df_calories.info()"
   ]
  },
  {
   "cell_type": "code",
   "execution_count": 11,
   "id": "fdb01af5",
   "metadata": {
    "execution": {
     "iopub.execute_input": "2024-10-28T18:57:51.662364Z",
     "iopub.status.busy": "2024-10-28T18:57:51.661794Z",
     "iopub.status.idle": "2024-10-28T18:57:51.677567Z",
     "shell.execute_reply": "2024-10-28T18:57:51.675819Z"
    },
    "papermill": {
     "duration": 0.035331,
     "end_time": "2024-10-28T18:57:51.680580",
     "exception": false,
     "start_time": "2024-10-28T18:57:51.645249",
     "status": "completed"
    },
    "tags": []
   },
   "outputs": [
    {
     "data": {
      "text/plain": [
       "User_ID       0\n",
       "Gender        0\n",
       "Age           0\n",
       "Height        0\n",
       "Weight        0\n",
       "Duration      0\n",
       "Heart_Rate    0\n",
       "Body_Temp     0\n",
       "Calories      0\n",
       "dtype: int64"
      ]
     },
     "execution_count": 11,
     "metadata": {},
     "output_type": "execute_result"
    }
   ],
   "source": [
    "#  checking the missing value\n",
    "df_calories.isnull().sum()"
   ]
  },
  {
   "cell_type": "markdown",
   "id": "31a5f91a",
   "metadata": {
    "papermill": {
     "duration": 0.011974,
     "end_time": "2024-10-28T18:57:51.707450",
     "exception": false,
     "start_time": "2024-10-28T18:57:51.695476",
     "status": "completed"
    },
    "tags": []
   },
   "source": [
    "# Data Analysis"
   ]
  },
  {
   "cell_type": "code",
   "execution_count": 12,
   "id": "5fd99993",
   "metadata": {
    "execution": {
     "iopub.execute_input": "2024-10-28T18:57:51.735586Z",
     "iopub.status.busy": "2024-10-28T18:57:51.733238Z",
     "iopub.status.idle": "2024-10-28T18:57:51.784776Z",
     "shell.execute_reply": "2024-10-28T18:57:51.783557Z"
    },
    "papermill": {
     "duration": 0.068226,
     "end_time": "2024-10-28T18:57:51.787744",
     "exception": false,
     "start_time": "2024-10-28T18:57:51.719518",
     "status": "completed"
    },
    "tags": []
   },
   "outputs": [
    {
     "data": {
      "text/html": [
       "<div>\n",
       "<style scoped>\n",
       "    .dataframe tbody tr th:only-of-type {\n",
       "        vertical-align: middle;\n",
       "    }\n",
       "\n",
       "    .dataframe tbody tr th {\n",
       "        vertical-align: top;\n",
       "    }\n",
       "\n",
       "    .dataframe thead th {\n",
       "        text-align: right;\n",
       "    }\n",
       "</style>\n",
       "<table border=\"1\" class=\"dataframe\">\n",
       "  <thead>\n",
       "    <tr style=\"text-align: right;\">\n",
       "      <th></th>\n",
       "      <th>User_ID</th>\n",
       "      <th>Age</th>\n",
       "      <th>Height</th>\n",
       "      <th>Weight</th>\n",
       "      <th>Duration</th>\n",
       "      <th>Heart_Rate</th>\n",
       "      <th>Body_Temp</th>\n",
       "      <th>Calories</th>\n",
       "    </tr>\n",
       "  </thead>\n",
       "  <tbody>\n",
       "    <tr>\n",
       "      <th>count</th>\n",
       "      <td>1.500000e+04</td>\n",
       "      <td>15000.000000</td>\n",
       "      <td>15000.000000</td>\n",
       "      <td>15000.000000</td>\n",
       "      <td>15000.000000</td>\n",
       "      <td>15000.000000</td>\n",
       "      <td>15000.000000</td>\n",
       "      <td>15000.000000</td>\n",
       "    </tr>\n",
       "    <tr>\n",
       "      <th>mean</th>\n",
       "      <td>1.497736e+07</td>\n",
       "      <td>42.789800</td>\n",
       "      <td>174.465133</td>\n",
       "      <td>74.966867</td>\n",
       "      <td>15.530600</td>\n",
       "      <td>95.518533</td>\n",
       "      <td>40.025453</td>\n",
       "      <td>89.539533</td>\n",
       "    </tr>\n",
       "    <tr>\n",
       "      <th>std</th>\n",
       "      <td>2.872851e+06</td>\n",
       "      <td>16.980264</td>\n",
       "      <td>14.258114</td>\n",
       "      <td>15.035657</td>\n",
       "      <td>8.319203</td>\n",
       "      <td>9.583328</td>\n",
       "      <td>0.779230</td>\n",
       "      <td>62.456978</td>\n",
       "    </tr>\n",
       "    <tr>\n",
       "      <th>min</th>\n",
       "      <td>1.000116e+07</td>\n",
       "      <td>20.000000</td>\n",
       "      <td>123.000000</td>\n",
       "      <td>36.000000</td>\n",
       "      <td>1.000000</td>\n",
       "      <td>67.000000</td>\n",
       "      <td>37.100000</td>\n",
       "      <td>1.000000</td>\n",
       "    </tr>\n",
       "    <tr>\n",
       "      <th>25%</th>\n",
       "      <td>1.247419e+07</td>\n",
       "      <td>28.000000</td>\n",
       "      <td>164.000000</td>\n",
       "      <td>63.000000</td>\n",
       "      <td>8.000000</td>\n",
       "      <td>88.000000</td>\n",
       "      <td>39.600000</td>\n",
       "      <td>35.000000</td>\n",
       "    </tr>\n",
       "    <tr>\n",
       "      <th>50%</th>\n",
       "      <td>1.499728e+07</td>\n",
       "      <td>39.000000</td>\n",
       "      <td>175.000000</td>\n",
       "      <td>74.000000</td>\n",
       "      <td>16.000000</td>\n",
       "      <td>96.000000</td>\n",
       "      <td>40.200000</td>\n",
       "      <td>79.000000</td>\n",
       "    </tr>\n",
       "    <tr>\n",
       "      <th>75%</th>\n",
       "      <td>1.744928e+07</td>\n",
       "      <td>56.000000</td>\n",
       "      <td>185.000000</td>\n",
       "      <td>87.000000</td>\n",
       "      <td>23.000000</td>\n",
       "      <td>103.000000</td>\n",
       "      <td>40.600000</td>\n",
       "      <td>138.000000</td>\n",
       "    </tr>\n",
       "    <tr>\n",
       "      <th>max</th>\n",
       "      <td>1.999965e+07</td>\n",
       "      <td>79.000000</td>\n",
       "      <td>222.000000</td>\n",
       "      <td>132.000000</td>\n",
       "      <td>30.000000</td>\n",
       "      <td>128.000000</td>\n",
       "      <td>41.500000</td>\n",
       "      <td>314.000000</td>\n",
       "    </tr>\n",
       "  </tbody>\n",
       "</table>\n",
       "</div>"
      ],
      "text/plain": [
       "            User_ID           Age        Height        Weight      Duration  \\\n",
       "count  1.500000e+04  15000.000000  15000.000000  15000.000000  15000.000000   \n",
       "mean   1.497736e+07     42.789800    174.465133     74.966867     15.530600   \n",
       "std    2.872851e+06     16.980264     14.258114     15.035657      8.319203   \n",
       "min    1.000116e+07     20.000000    123.000000     36.000000      1.000000   \n",
       "25%    1.247419e+07     28.000000    164.000000     63.000000      8.000000   \n",
       "50%    1.499728e+07     39.000000    175.000000     74.000000     16.000000   \n",
       "75%    1.744928e+07     56.000000    185.000000     87.000000     23.000000   \n",
       "max    1.999965e+07     79.000000    222.000000    132.000000     30.000000   \n",
       "\n",
       "         Heart_Rate     Body_Temp      Calories  \n",
       "count  15000.000000  15000.000000  15000.000000  \n",
       "mean      95.518533     40.025453     89.539533  \n",
       "std        9.583328      0.779230     62.456978  \n",
       "min       67.000000     37.100000      1.000000  \n",
       "25%       88.000000     39.600000     35.000000  \n",
       "50%       96.000000     40.200000     79.000000  \n",
       "75%      103.000000     40.600000    138.000000  \n",
       "max      128.000000     41.500000    314.000000  "
      ]
     },
     "execution_count": 12,
     "metadata": {},
     "output_type": "execute_result"
    }
   ],
   "source": [
    "df_calories.describe()"
   ]
  },
  {
   "cell_type": "markdown",
   "id": "75ee9a06",
   "metadata": {
    "papermill": {
     "duration": 0.012546,
     "end_time": "2024-10-28T18:57:51.818054",
     "exception": false,
     "start_time": "2024-10-28T18:57:51.805508",
     "status": "completed"
    },
    "tags": []
   },
   "source": [
    "#  Data Visualizatopn"
   ]
  },
  {
   "cell_type": "code",
   "execution_count": 13,
   "id": "367bc83e",
   "metadata": {
    "execution": {
     "iopub.execute_input": "2024-10-28T18:57:51.847212Z",
     "iopub.status.busy": "2024-10-28T18:57:51.846664Z",
     "iopub.status.idle": "2024-10-28T18:57:52.199192Z",
     "shell.execute_reply": "2024-10-28T18:57:52.197852Z"
    },
    "papermill": {
     "duration": 0.370963,
     "end_time": "2024-10-28T18:57:52.202100",
     "exception": false,
     "start_time": "2024-10-28T18:57:51.831137",
     "status": "completed"
    },
    "tags": []
   },
   "outputs": [
    {
     "data": {
      "image/png": "[encoded data removed]",
      "text/plain": [
       "<Figure size 640x480 with 1 Axes>"
      ]
     },
     "metadata": {},
     "output_type": "display_data"
    }
   ],
   "source": [
    "# plotting the gender columns in countplot\n",
    "sns.set()\n",
    "sns.countplot(x = \"Gender\",data = df_calories)\n",
    "plt.title(\"Gender Count\")\n",
    "plt.show()\n"
   ]
  },
  {
   "cell_type": "code",
   "execution_count": 14,
   "id": "dfb69ece",
   "metadata": {
    "execution": {
     "iopub.execute_input": "2024-10-28T18:57:52.236832Z",
     "iopub.status.busy": "2024-10-28T18:57:52.236023Z",
     "iopub.status.idle": "2024-10-28T18:57:52.882198Z",
     "shell.execute_reply": "2024-10-28T18:57:52.880792Z"
    },
    "papermill": {
     "duration": 0.667664,
     "end_time": "2024-10-28T18:57:52.885461",
     "exception": false,
     "start_time": "2024-10-28T18:57:52.217797",
     "status": "completed"
    },
    "tags": []
   },
   "outputs": [
    {
     "name": "stderr",
     "output_type": "stream",
     "text": [
      "/opt/conda/lib/python3.10/site-packages/seaborn/_oldcore.py:1119: FutureWarning: use_inf_as_na option is deprecated and will be removed in a future version. Convert inf values to NaN before operating instead.\n",
      "  with pd.option_context('mode.use_inf_as_na', True):\n"
     ]
    },
    {
     "data": {
      "image/png": "[encoded data removed]",
      "text/plain": [
       "<Figure size 640x480 with 1 Axes>"
      ]
     },
     "metadata": {},
     "output_type": "display_data"
    }
   ],
   "source": [
    "sns.histplot(df_calories[\"Age\"],kde = True)\n",
    "plt.title(\"Distribution of Age\")\n",
    "plt.show()"
   ]
  },
  {
   "cell_type": "code",
   "execution_count": 15,
   "id": "98bfbf4c",
   "metadata": {
    "execution": {
     "iopub.execute_input": "2024-10-28T18:57:52.922424Z",
     "iopub.status.busy": "2024-10-28T18:57:52.921983Z",
     "iopub.status.idle": "2024-10-28T18:57:53.710914Z",
     "shell.execute_reply": "2024-10-28T18:57:53.709653Z"
    },
    "papermill": {
     "duration": 0.808869,
     "end_time": "2024-10-28T18:57:53.714649",
     "exception": false,
     "start_time": "2024-10-28T18:57:52.905780",
     "status": "completed"
    },
    "tags": []
   },
   "outputs": [
    {
     "name": "stderr",
     "output_type": "stream",
     "text": [
      "/opt/conda/lib/python3.10/site-packages/seaborn/_oldcore.py:1119: FutureWarning: use_inf_as_na option is deprecated and will be removed in a future version. Convert inf values to NaN before operating instead.\n",
      "  with pd.option_context('mode.use_inf_as_na', True):\n"
     ]
    },
    {
     "data": {
      "image/png": "[encoded data removed]",
      "text/plain": [
       "<Figure size 640x480 with 1 Axes>"
      ]
     },
     "metadata": {},
     "output_type": "display_data"
    }
   ],
   "source": [
    "sns.histplot(df_calories[\"Height\"],kde = True)\n",
    "plt.title(\"Distribution of Height\")\n",
    "plt.show()"
   ]
  },
  {
   "cell_type": "code",
   "execution_count": 16,
   "id": "46287a3c",
   "metadata": {
    "execution": {
     "iopub.execute_input": "2024-10-28T18:57:53.751104Z",
     "iopub.status.busy": "2024-10-28T18:57:53.750605Z",
     "iopub.status.idle": "2024-10-28T18:57:54.376307Z",
     "shell.execute_reply": "2024-10-28T18:57:54.374949Z"
    },
    "papermill": {
     "duration": 0.645474,
     "end_time": "2024-10-28T18:57:54.378890",
     "exception": false,
     "start_time": "2024-10-28T18:57:53.733416",
     "status": "completed"
    },
    "tags": []
   },
   "outputs": [
    {
     "name": "stderr",
     "output_type": "stream",
     "text": [
      "/opt/conda/lib/python3.10/site-packages/seaborn/_oldcore.py:1119: FutureWarning: use_inf_as_na option is deprecated and will be removed in a future version. Convert inf values to NaN before operating instead.\n",
      "  with pd.option_context('mode.use_inf_as_na', True):\n"
     ]
    },
    {
     "data": {
      "image/png": "[encoded data removed]",
      "text/plain": [
       "<Figure size 640x480 with 1 Axes>"
      ]
     },
     "metadata": {},
     "output_type": "display_data"
    }
   ],
   "source": [
    "sns.histplot(df_calories[\"Weight\"],kde = True)\n",
    "plt.title(\"Distribution of Weight\")\n",
    "plt.show()"
   ]
  },
  {
   "cell_type": "code",
   "execution_count": 17,
   "id": "9721204f",
   "metadata": {
    "execution": {
     "iopub.execute_input": "2024-10-28T18:57:54.411718Z",
     "iopub.status.busy": "2024-10-28T18:57:54.411260Z",
     "iopub.status.idle": "2024-10-28T18:57:54.422122Z",
     "shell.execute_reply": "2024-10-28T18:57:54.420978Z"
    },
    "papermill": {
     "duration": 0.030611,
     "end_time": "2024-10-28T18:57:54.424825",
     "exception": false,
     "start_time": "2024-10-28T18:57:54.394214",
     "status": "completed"
    },
    "tags": []
   },
   "outputs": [],
   "source": [
    "# correlation = df_calories.corr()\n",
    "correlation = df_calories.select_dtypes(include='number').corr()\n"
   ]
  },
  {
   "cell_type": "code",
   "execution_count": 18,
   "id": "d7b20ad7",
   "metadata": {
    "execution": {
     "iopub.execute_input": "2024-10-28T18:57:54.457269Z",
     "iopub.status.busy": "2024-10-28T18:57:54.456816Z",
     "iopub.status.idle": "2024-10-28T18:57:55.177487Z",
     "shell.execute_reply": "2024-10-28T18:57:55.176015Z"
    },
    "papermill": {
     "duration": 0.741123,
     "end_time": "2024-10-28T18:57:55.181063",
     "exception": false,
     "start_time": "2024-10-28T18:57:54.439940",
     "status": "completed"
    },
    "tags": []
   },
   "outputs": [
    {
     "data": {
      "text/plain": [
       "<Axes: >"
      ]
     },
     "execution_count": 18,
     "metadata": {},
     "output_type": "execute_result"
    },
    {
     "data": {
      "image/png": "[encoded data removed]",
      "text/plain": [
       "<Figure size 1000x1000 with 2 Axes>"
      ]
     },
     "metadata": {},
     "output_type": "display_data"
    }
   ],
   "source": [
    "plt.figure(figsize = (10,10))\n",
    "sns.heatmap(correlation, annot = True)"
   ]
  },
  {
   "cell_type": "markdown",
   "id": "4ca85dbc",
   "metadata": {
    "papermill": {
     "duration": 0.016676,
     "end_time": "2024-10-28T18:57:55.215530",
     "exception": false,
     "start_time": "2024-10-28T18:57:55.198854",
     "status": "completed"
    },
    "tags": []
   },
   "source": [
    "# Converting the text data to numerical value"
   ]
  },
  {
   "cell_type": "code",
   "execution_count": 19,
   "id": "3981bcac",
   "metadata": {
    "execution": {
     "iopub.execute_input": "2024-10-28T18:57:55.251306Z",
     "iopub.status.busy": "2024-10-28T18:57:55.250832Z",
     "iopub.status.idle": "2024-10-28T18:57:55.261677Z",
     "shell.execute_reply": "2024-10-28T18:57:55.260577Z"
    },
    "papermill": {
     "duration": 0.031724,
     "end_time": "2024-10-28T18:57:55.264166",
     "exception": false,
     "start_time": "2024-10-28T18:57:55.232442",
     "status": "completed"
    },
    "tags": []
   },
   "outputs": [],
   "source": [
    "from sklearn.preprocessing import LabelEncoder\n",
    "\n",
    "encode = LabelEncoder()\n",
    "\n",
    "df_calories['Gender'] = encode .fit_transform(df_calories['Gender'])"
   ]
  },
  {
   "cell_type": "markdown",
   "id": "764cc861",
   "metadata": {
    "papermill": {
     "duration": 0.01695,
     "end_time": "2024-10-28T18:57:55.299454",
     "exception": false,
     "start_time": "2024-10-28T18:57:55.282504",
     "status": "completed"
    },
    "tags": []
   },
   "source": [
    "# Separating feature and target"
   ]
  },
  {
   "cell_type": "code",
   "execution_count": 20,
   "id": "1e927ac7",
   "metadata": {
    "execution": {
     "iopub.execute_input": "2024-10-28T18:57:55.335377Z",
     "iopub.status.busy": "2024-10-28T18:57:55.334574Z",
     "iopub.status.idle": "2024-10-28T18:57:55.341999Z",
     "shell.execute_reply": "2024-10-28T18:57:55.340613Z"
    },
    "papermill": {
     "duration": 0.028145,
     "end_time": "2024-10-28T18:57:55.344610",
     "exception": false,
     "start_time": "2024-10-28T18:57:55.316465",
     "status": "completed"
    },
    "tags": []
   },
   "outputs": [],
   "source": [
    "x = df_calories.drop(columns = [\"User_ID\",\"Calories\"],axis = True)\n",
    "y = df_calories[\"Calories\"]"
   ]
  },
  {
   "cell_type": "markdown",
   "id": "8e0c2c7a",
   "metadata": {
    "papermill": {
     "duration": 0.016948,
     "end_time": "2024-10-28T18:57:55.378899",
     "exception": false,
     "start_time": "2024-10-28T18:57:55.361951",
     "status": "completed"
    },
    "tags": []
   },
   "source": [
    "# splitting data into train data and test data"
   ]
  },
  {
   "cell_type": "code",
   "execution_count": 21,
   "id": "70132765",
   "metadata": {
    "execution": {
     "iopub.execute_input": "2024-10-28T18:57:55.414656Z",
     "iopub.status.busy": "2024-10-28T18:57:55.414218Z",
     "iopub.status.idle": "2024-10-28T18:57:55.424641Z",
     "shell.execute_reply": "2024-10-28T18:57:55.423589Z"
    },
    "papermill": {
     "duration": 0.031339,
     "end_time": "2024-10-28T18:57:55.427161",
     "exception": false,
     "start_time": "2024-10-28T18:57:55.395822",
     "status": "completed"
    },
    "tags": []
   },
   "outputs": [],
   "source": [
    "x_train,x_test,y_train,y_test = train_test_split(x,y, test_size = 0.2, random_state = 42)"
   ]
  },
  {
   "cell_type": "markdown",
   "id": "6929f67d",
   "metadata": {
    "papermill": {
     "duration": 0.016985,
     "end_time": "2024-10-28T18:57:55.461170",
     "exception": false,
     "start_time": "2024-10-28T18:57:55.444185",
     "status": "completed"
    },
    "tags": []
   },
   "source": [
    "# Model Training"
   ]
  },
  {
   "cell_type": "code",
   "execution_count": 22,
   "id": "53ac35ae",
   "metadata": {
    "execution": {
     "iopub.execute_input": "2024-10-28T18:57:55.497878Z",
     "iopub.status.busy": "2024-10-28T18:57:55.496904Z",
     "iopub.status.idle": "2024-10-28T18:57:55.697271Z",
     "shell.execute_reply": "2024-10-28T18:57:55.696174Z"
    },
    "papermill": {
     "duration": 0.221936,
     "end_time": "2024-10-28T18:57:55.700192",
     "exception": false,
     "start_time": "2024-10-28T18:57:55.478256",
     "status": "completed"
    },
    "tags": []
   },
   "outputs": [
    {
     "data": {
      "text/html": [
       "<style>#sk-container-id-1 {color: black;background-color: white;}#sk-container-id-1 pre{padding: 0;}#sk-container-id-1 div.sk-toggleable {background-color: white;}#sk-container-id-1 label.sk-toggleable__label {cursor: pointer;display: block;width: 100%;margin-bottom: 0;padding: 0.3em;box-sizing: border-box;text-align: center;}#sk-container-id-1 label.sk-toggleable__label-arrow:before {content: \"▸\";float: left;margin-right: 0.25em;color: #696969;}#sk-container-id-1 label.sk-toggleable__label-arrow:hover:before {color: black;}#sk-container-id-1 div.sk-estimator:hover label.sk-toggleable__label-arrow:before {color: black;}#sk-container-id-1 div.sk-toggleable__content {max-height: 0;max-width: 0;overflow: hidden;text-align: left;background-color: #f0f8ff;}#sk-container-id-1 div.sk-toggleable__content pre {margin: 0.2em;color: black;border-radius: 0.25em;background-color: #f0f8ff;}#sk-container-id-1 input.sk-toggleable__control:checked~div.sk-toggleable__content {max-height: 200px;max-width: 100%;overflow: auto;}#sk-container-id-1 input.sk-toggleable__control:checked~label.sk-toggleable__label-arrow:before {content: \"▾\";}#sk-container-id-1 div.sk-estimator input.sk-toggleable__control:checked~label.sk-toggleable__label {background-color: #d4ebff;}#sk-container-id-1 div.sk-label input.sk-toggleable__control:checked~label.sk-toggleable__label {background-color: #d4ebff;}#sk-container-id-1 input.sk-hidden--visually {border: 0;clip: rect(1px 1px 1px 1px);clip: rect(1px, 1px, 1px, 1px);height: 1px;margin: -1px;overflow: hidden;padding: 0;position: absolute;width: 1px;}#sk-container-id-1 div.sk-estimator {font-family: monospace;background-color: #f0f8ff;border: 1px dotted black;border-radius: 0.25em;box-sizing: border-box;margin-bottom: 0.5em;}#sk-container-id-1 div.sk-estimator:hover {background-color: #d4ebff;}#sk-container-id-1 div.sk-parallel-item::after {content: \"\";width: 100%;border-bottom: 1px solid gray;flex-grow: 1;}#sk-container-id-1 div.sk-label:hover label.sk-toggleable__label {background-color: #d4ebff;}#sk-container-id-1 div.sk-serial::before {content: \"\";position: absolute;border-left: 1px solid gray;box-sizing: border-box;top: 0;bottom: 0;left: 50%;z-index: 0;}#sk-container-id-1 div.sk-serial {display: flex;flex-direction: column;align-items: center;background-color: white;padding-right: 0.2em;padding-left: 0.2em;position: relative;}#sk-container-id-1 div.sk-item {position: relative;z-index: 1;}#sk-container-id-1 div.sk-parallel {display: flex;align-items: stretch;justify-content: center;background-color: white;position: relative;}#sk-container-id-1 div.sk-item::before, #sk-container-id-1 div.sk-parallel-item::before {content: \"\";position: absolute;border-left: 1px solid gray;box-sizing: border-box;top: 0;bottom: 0;left: 50%;z-index: -1;}#sk-container-id-1 div.sk-parallel-item {display: flex;flex-direction: column;z-index: 1;position: relative;background-color: white;}#sk-container-id-1 div.sk-parallel-item:first-child::after {align-self: flex-end;width: 50%;}#sk-container-id-1 div.sk-parallel-item:last-child::after {align-self: flex-start;width: 50%;}#sk-container-id-1 div.sk-parallel-item:only-child::after {width: 0;}#sk-container-id-1 div.sk-dashed-wrapped {border: 1px dashed gray;margin: 0 0.4em 0.5em 0.4em;box-sizing: border-box;padding-bottom: 0.4em;background-color: white;}#sk-container-id-1 div.sk-label label {font-family: monospace;font-weight: bold;display: inline-block;line-height: 1.2em;}#sk-container-id-1 div.sk-label-container {text-align: center;}#sk-container-id-1 div.sk-container {/* jupyter's `normalize.less` sets `[hidden] { display: none; }` but bootstrap.min.css set `[hidden] { display: none !important; }` so we also need the `!important` here to be able to override the default hidden behavior on the sphinx rendered scikit-learn.org. See: https://github.com/scikit-learn/scikit-learn/issues/21755 */display: inline-block !important;position: relative;}#sk-container-id-1 div.sk-text-repr-fallback {display: none;}</style><div id=\"sk-container-id-1\" class=\"sk-top-container\"><div class=\"sk-text-repr-fallback\"><pre>XGBRegressor(base_score=None, booster=None, callbacks=None,\n",
       "             colsample_bylevel=None, colsample_bynode=None,\n",
       "             colsample_bytree=None, device=None, early_stopping_rounds=None,\n",
       "             enable_categorical=False, eval_metric=None, feature_types=None,\n",
       "             gamma=None, grow_policy=None, importance_type=None,\n",
       "             interaction_constraints=None, learning_rate=None, max_bin=None,\n",
       "             max_cat_threshold=None, max_cat_to_onehot=None,\n",
       "             max_delta_step=None, max_depth=None, max_leaves=None,\n",
       "             min_child_weight=None, missing=nan, monotone_constraints=None,\n",
       "             multi_strategy=None, n_estimators=None, n_jobs=None,\n",
       "             num_parallel_tree=None, random_state=None, ...)</pre><b>In a Jupyter environment, please rerun this cell to show the HTML representation or trust the notebook. <br />On GitHub, the HTML representation is unable to render, please try loading this page with nbviewer.org.</b></div><div class=\"sk-container\" hidden><div class=\"sk-item\"><div class=\"sk-estimator sk-toggleable\"><input class=\"sk-toggleable__control sk-hidden--visually\" id=\"sk-estimator-id-1\" type=\"checkbox\" checked><label for=\"sk-estimator-id-1\" class=\"sk-toggleable__label sk-toggleable__label-arrow\">XGBRegressor</label><div class=\"sk-toggleable__content\"><pre>XGBRegressor(base_score=None, booster=None, callbacks=None,\n",
       "             colsample_bylevel=None, colsample_bynode=None,\n",
       "             colsample_bytree=None, device=None, early_stopping_rounds=None,\n",
       "             enable_categorical=False, eval_metric=None, feature_types=None,\n",
       "             gamma=None, grow_policy=None, importance_type=None,\n",
       "             interaction_constraints=None, learning_rate=None, max_bin=None,\n",
       "             max_cat_threshold=None, max_cat_to_onehot=None,\n",
       "             max_delta_step=None, max_depth=None, max_leaves=None,\n",
       "             min_child_weight=None, missing=nan, monotone_constraints=None,\n",
       "             multi_strategy=None, n_estimators=None, n_jobs=None,\n",
       "             num_parallel_tree=None, random_state=None, ...)</pre></div></div></div></div></div>"
      ],
      "text/plain": [
       "XGBRegressor(base_score=None, booster=None, callbacks=None,\n",
       "             colsample_bylevel=None, colsample_bynode=None,\n",
       "             colsample_bytree=None, device=None, early_stopping_rounds=None,\n",
       "             enable_categorical=False, eval_metric=None, feature_types=None,\n",
       "             gamma=None, grow_policy=None, importance_type=None,\n",
       "             interaction_constraints=None, learning_rate=None, max_bin=None,\n",
       "             max_cat_threshold=None, max_cat_to_onehot=None,\n",
       "             max_delta_step=None, max_depth=None, max_leaves=None,\n",
       "             min_child_weight=None, missing=nan, monotone_constraints=None,\n",
       "             multi_strategy=None, n_estimators=None, n_jobs=None,\n",
       "             num_parallel_tree=None, random_state=None, ...)"
      ]
     },
     "execution_count": 22,
     "metadata": {},
     "output_type": "execute_result"
    }
   ],
   "source": [
    "model = XGBRegressor()\n",
    "\n",
    "model.fit(x_train,y_train)"
   ]
  },
  {
   "cell_type": "markdown",
   "id": "c850b135",
   "metadata": {
    "papermill": {
     "duration": 0.017321,
     "end_time": "2024-10-28T18:57:55.735542",
     "exception": false,
     "start_time": "2024-10-28T18:57:55.718221",
     "status": "completed"
    },
    "tags": []
   },
   "source": [
    "# Prediction on test data"
   ]
  },
  {
   "cell_type": "code",
   "execution_count": 23,
   "id": "7591f1d3",
   "metadata": {
    "execution": {
     "iopub.execute_input": "2024-10-28T18:57:55.773445Z",
     "iopub.status.busy": "2024-10-28T18:57:55.772424Z",
     "iopub.status.idle": "2024-10-28T18:57:55.785581Z",
     "shell.execute_reply": "2024-10-28T18:57:55.784604Z"
    },
    "papermill": {
     "duration": 0.035389,
     "end_time": "2024-10-28T18:57:55.788379",
     "exception": false,
     "start_time": "2024-10-28T18:57:55.752990",
     "status": "completed"
    },
    "tags": []
   },
   "outputs": [],
   "source": [
    "test_data_pred = model.predict(x_test)"
   ]
  },
  {
   "cell_type": "code",
   "execution_count": 24,
   "id": "70c811e6",
   "metadata": {
    "execution": {
     "iopub.execute_input": "2024-10-28T18:57:55.827091Z",
     "iopub.status.busy": "2024-10-28T18:57:55.826677Z",
     "iopub.status.idle": "2024-10-28T18:57:55.832815Z",
     "shell.execute_reply": "2024-10-28T18:57:55.831692Z"
    },
    "papermill": {
     "duration": 0.028298,
     "end_time": "2024-10-28T18:57:55.835823",
     "exception": false,
     "start_time": "2024-10-28T18:57:55.807525",
     "status": "completed"
    },
    "tags": []
   },
   "outputs": [
    {
     "name": "stdout",
     "output_type": "stream",
     "text": [
      "[172.07645  195.7858    51.708874 ... 121.50776   19.239851 214.43597 ]\n"
     ]
    }
   ],
   "source": [
    "print(test_data_pred)"
   ]
  },
  {
   "cell_type": "markdown",
   "id": "8c5982fa",
   "metadata": {
    "papermill": {
     "duration": 0.017405,
     "end_time": "2024-10-28T18:57:55.870670",
     "exception": false,
     "start_time": "2024-10-28T18:57:55.853265",
     "status": "completed"
    },
    "tags": []
   },
   "source": [
    "# Mean Absolute Error"
   ]
  },
  {
   "cell_type": "code",
   "execution_count": 25,
   "id": "831fd7b0",
   "metadata": {
    "execution": {
     "iopub.execute_input": "2024-10-28T18:57:55.907452Z",
     "iopub.status.busy": "2024-10-28T18:57:55.907039Z",
     "iopub.status.idle": "2024-10-28T18:57:55.914632Z",
     "shell.execute_reply": "2024-10-28T18:57:55.913332Z"
    },
    "papermill": {
     "duration": 0.02902,
     "end_time": "2024-10-28T18:57:55.917182",
     "exception": false,
     "start_time": "2024-10-28T18:57:55.888162",
     "status": "completed"
    },
    "tags": []
   },
   "outputs": [
    {
     "name": "stdout",
     "output_type": "stream",
     "text": [
      "Mean Absolute Error: 1.4981198125282924\n"
     ]
    }
   ],
   "source": [
    "mean = metrics.mean_absolute_error(y_test,test_data_pred)\n",
    "print(f\"Mean Absolute Error: {mean}\")"
   ]
  }
 ],
 "metadata": {
  "kaggle": {
   "accelerator": "none",
   "dataSources": [
    {
     "datasetId": 20840,
     "sourceId": 26893,
     "sourceType": "datasetVersion"
    }
   ],
   "dockerImageVersionId": 30786,
   "isGpuEnabled": false,
   "isInternetEnabled": true,
   "language": "python",
   "sourceType": "notebook"
  },
  "kernelspec": {
   "display_name": "Python 3",
   "language": "python",
   "name": "python3"
  },
  "language_info": {
   "codemirror_mode": {
    "name": "ipython",
    "version": 3
   },
   "file_extension": ".py",
   "mimetype": "text/x-python",
   "name": "python",
   "nbconvert_exporter": "python",
   "pygments_lexer": "ipython3",
   "version": "3.10.14"
  },
  "papermill": {
   "default_parameters": {},
   "duration": 11.846955,
   "end_time": "2024-10-28T18:57:56.657614",
   "environment_variables": {},
   "exception": null,
   "input_path": "__notebook__.ipynb",
   "output_path": "__notebook__.ipynb",
   "parameters": {},
   "start_time": "2024-10-28T18:57:44.810659",
   "version": "2.6.0"
  }
 },
 "nbformat": 4,
 "nbformat_minor": 5
}
